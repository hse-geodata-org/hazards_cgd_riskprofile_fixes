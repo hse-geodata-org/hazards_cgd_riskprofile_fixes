{
 "cells": [
  {
   "cell_type": "code",
   "execution_count": null,
   "id": "72c44a2f",
   "metadata": {},
   "outputs": [],
   "source": [
    "import os\n",
    "import arcpy"
   ]
  },
  {
   "cell_type": "code",
   "execution_count": 4,
   "id": "f7ddca48",
   "metadata": {},
   "outputs": [
    {
     "name": "stdout",
     "output_type": "stream",
     "text": [
      "[ValueFix] Dataset: risk | FC count: 11\n",
      "[ValueFix] DONE. DRY_RUN=False. FCs changed: 0, rows changed: 0, rows scanned: 242\n"
     ]
    }
   ],
   "source": [
    "# ========= CONFIG =========\n",
    "region    = \"KHMAO\"\n",
    "gdb_path  = r\"C:\\Users\\User\\Documents\\ЦГД\\KHMAO_RiskProfile_27-10-2025\\KHMAO_RiskProfile\\Default.gdb\"\n",
    "RISKS_FDS = \"risk\"   # feature dataset that holds risk layers\n",
    "DRY_RUN   = False     # True -> don't modify, just count & print\n",
    "\n",
    "fields_to_fix = [\"hExpertTot\", \"hExpertLive\", \"hNormLive\", \"hNormTot\"]\n",
    "old_value = \"умерено опасно\"\n",
    "new_value = \"умеренно опасно\"\n",
    "\n",
    "# ========= RUN =========\n",
    "arcpy.env.workspace = os.path.join(gdb_path, RISKS_FDS)\n",
    "fcs = arcpy.ListFeatureClasses() or []\n",
    "\n",
    "total_rows_scanned = 0\n",
    "total_rows_changed = 0\n",
    "total_fc_changed   = 0\n",
    "\n",
    "print(f\"[ValueFix] Dataset: {RISKS_FDS} | FC count: {len(fcs)}\")\n",
    "for fc in fcs:\n",
    "    fc_path = os.path.join(gdb_path, RISKS_FDS, fc)\n",
    "\n",
    "    # skip if none of the target fields exist\n",
    "    existing = {f.name for f in arcpy.ListFields(fc_path)}\n",
    "    targets  = [f for f in fields_to_fix if f in existing]\n",
    "    if not targets:\n",
    "        continue\n",
    "\n",
    "    changed_rows = 0\n",
    "    scanned_rows = 0\n",
    "\n",
    "    # use UpdateCursor if not dry-run, else SearchCursor\n",
    "    Cursor = arcpy.da.UpdateCursor if not DRY_RUN else arcpy.da.SearchCursor\n",
    "    with Cursor(fc_path, targets) as cur:\n",
    "        for row in cur:\n",
    "            scanned_rows += 1\n",
    "            if DRY_RUN:\n",
    "                # just count potential changes\n",
    "                if any(isinstance(v, str) and (old_value in v) for v in row):\n",
    "                    changed_rows += 1\n",
    "                continue\n",
    "\n",
    "            # live replace\n",
    "            row_list = list(row)\n",
    "            touched = False\n",
    "            for i, v in enumerate(row_list):\n",
    "                if isinstance(v, str) and (old_value in v):\n",
    "                    row_list[i] = v.replace(old_value, new_value)\n",
    "                    touched = True\n",
    "            if touched:\n",
    "                cur.updateRow(row_list)\n",
    "                changed_rows += 1\n",
    "\n",
    "    if changed_rows:\n",
    "        total_fc_changed += 1\n",
    "        print(f\"  [{fc}] fields {targets} -> updated rows: {changed_rows} (scanned: {scanned_rows})\")\n",
    "    total_rows_scanned += scanned_rows\n",
    "    total_rows_changed += changed_rows\n",
    "\n",
    "print(f\"[ValueFix] DONE. DRY_RUN={DRY_RUN}. FCs changed: {total_fc_changed}, \"\n",
    "      f\"rows changed: {total_rows_changed}, rows scanned: {total_rows_scanned}\")\n"
   ]
  }
 ],
 "metadata": {
  "kernelspec": {
   "display_name": "arcpro-clone",
   "language": "python",
   "name": "python3"
  },
  "language_info": {
   "codemirror_mode": {
    "name": "ipython",
    "version": 3
   },
   "file_extension": ".py",
   "mimetype": "text/x-python",
   "name": "python",
   "nbconvert_exporter": "python",
   "pygments_lexer": "ipython3",
   "version": "3.9.11"
  }
 },
 "nbformat": 4,
 "nbformat_minor": 5
}
